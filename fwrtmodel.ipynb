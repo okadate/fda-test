{
 "cells": [
  {
   "cell_type": "code",
   "execution_count": 201,
   "metadata": {},
   "outputs": [
    {
     "name": "stderr",
     "output_type": "stream",
     "text": [
      "  0%|          | 0/5000 [00:00<?, ?it/s]"
     ]
    },
    {
     "name": "stdout",
     "output_type": "stream",
     "text": [
      "[ 0.1  0.3  0.5  0.7  0.9  1.1  1.3  1.5  1.7  1.9]\n",
      "<fwrtmodel.FWRTmodel object at 0x7fa3884df350>\n",
      "0 0 1\n",
      "1 1 2\n",
      "2 2 3\n",
      "3 3 4\n",
      "4 4 5\n",
      "5 5 6\n",
      "6 6 7\n",
      "7 7 8\n",
      "8 8 9\n",
      "9 9 10\n"
     ]
    },
    {
     "name": "stderr",
     "output_type": "stream",
     "text": [
      "\n"
     ]
    },
    {
     "ename": "IndexError",
     "evalue": "index 10 is out of bounds for axis 0 with size 10",
     "output_type": "error",
     "traceback": [
      "\u001b[0;31m---------------------------------------------------------------------------\u001b[0m",
      "\u001b[0;31mIndexError\u001b[0m                                Traceback (most recent call last)",
      "\u001b[0;32m<ipython-input-201-31e46a152471>\u001b[0m in \u001b[0;36m<module>\u001b[0;34m()\u001b[0m\n\u001b[1;32m     34\u001b[0m \u001b[0;32mprint\u001b[0m \u001b[0mm\u001b[0m\u001b[0;34m\u001b[0m\u001b[0m\n\u001b[1;32m     35\u001b[0m \u001b[0;34m\u001b[0m\u001b[0m\n\u001b[0;32m---> 36\u001b[0;31m \u001b[0mx_nl\u001b[0m\u001b[0;34m,\u001b[0m \u001b[0mdiag\u001b[0m \u001b[0;34m=\u001b[0m \u001b[0mm\u001b[0m\u001b[0;34m.\u001b[0m\u001b[0mrun_nl\u001b[0m\u001b[0;34m(\u001b[0m\u001b[0mini\u001b[0m\u001b[0;34m,\u001b[0m \u001b[0mnum_t\u001b[0m\u001b[0;34m,\u001b[0m \u001b[0mirr\u001b[0m\u001b[0;34m,\u001b[0m \u001b[0mtemp\u001b[0m\u001b[0;34m,\u001b[0m \u001b[0mdH\u001b[0m\u001b[0;34m,\u001b[0m \u001b[0mH\u001b[0m\u001b[0;34m,\u001b[0m \u001b[0mdiag\u001b[0m\u001b[0;34m=\u001b[0m\u001b[0mTrue\u001b[0m\u001b[0;34m)\u001b[0m\u001b[0;34m\u001b[0m\u001b[0m\n\u001b[0m\u001b[1;32m     37\u001b[0m \u001b[0;34m\u001b[0m\u001b[0m\n\u001b[1;32m     38\u001b[0m \u001b[0mfig\u001b[0m\u001b[0;34m,\u001b[0m \u001b[0max\u001b[0m \u001b[0;34m=\u001b[0m \u001b[0mplt\u001b[0m\u001b[0;34m.\u001b[0m\u001b[0msubplots\u001b[0m\u001b[0;34m(\u001b[0m\u001b[0;36m7\u001b[0m\u001b[0;34m,\u001b[0m\u001b[0;36m2\u001b[0m\u001b[0;34m,\u001b[0m\u001b[0mfigsize\u001b[0m\u001b[0;34m=\u001b[0m\u001b[0;34m(\u001b[0m\u001b[0;36m14\u001b[0m\u001b[0;34m,\u001b[0m\u001b[0;36m14\u001b[0m\u001b[0;34m)\u001b[0m\u001b[0;34m)\u001b[0m\u001b[0;34m\u001b[0m\u001b[0m\n",
      "\u001b[0;32m/Users/okada/github/fda/fwrtmodel.pyc\u001b[0m in \u001b[0;36mrun_nl\u001b[0;34m(self, ini, num_t, irr, temp, dH, H, diag)\u001b[0m\n\u001b[1;32m    213\u001b[0m             \u001b[0;31m#self.z_loss(x_nl)\u001b[0m\u001b[0;34m\u001b[0m\u001b[0;34m\u001b[0m\u001b[0m\n\u001b[1;32m    214\u001b[0m             \u001b[0;31m#self.d_loss(x_nl)\u001b[0m\u001b[0;34m\u001b[0m\u001b[0;34m\u001b[0m\u001b[0m\n\u001b[0;32m--> 215\u001b[0;31m             \u001b[0mself\u001b[0m\u001b[0;34m.\u001b[0m\u001b[0msettling\u001b[0m\u001b[0;34m(\u001b[0m\u001b[0mH\u001b[0m\u001b[0;34m,\u001b[0m \u001b[0mx_nl\u001b[0m\u001b[0;34m)\u001b[0m\u001b[0;34m\u001b[0m\u001b[0m\n\u001b[0m\u001b[1;32m    216\u001b[0m \u001b[0;34m\u001b[0m\u001b[0m\n\u001b[1;32m    217\u001b[0m             \u001b[0;31m# obtain light\u001b[0m\u001b[0;34m\u001b[0m\u001b[0;34m\u001b[0m\u001b[0m\n",
      "\u001b[0;32m/Users/okada/github/fda/fwrtmodel.pyc\u001b[0m in \u001b[0;36msettling\u001b[0;34m(self, H, x_nl)\u001b[0m\n\u001b[1;32m    178\u001b[0m \u001b[0;34m\u001b[0m\u001b[0m\n\u001b[1;32m    179\u001b[0m             \u001b[0msl\u001b[0m \u001b[0;34m=\u001b[0m \u001b[0mSemiLagrangian1D\u001b[0m\u001b[0;34m(\u001b[0m\u001b[0mH\u001b[0m\u001b[0;34m,\u001b[0m \u001b[0mx_nl\u001b[0m\u001b[0;34m[\u001b[0m\u001b[0mi\u001b[0m\u001b[0;34m]\u001b[0m\u001b[0;34m,\u001b[0m \u001b[0mu\u001b[0m\u001b[0;34m,\u001b[0m \u001b[0mself\u001b[0m\u001b[0;34m.\u001b[0m\u001b[0mdelta_t\u001b[0m\u001b[0;34m)\u001b[0m\u001b[0;34m\u001b[0m\u001b[0m\n\u001b[0;32m--> 180\u001b[0;31m             \u001b[0mx_nl\u001b[0m\u001b[0;34m[\u001b[0m\u001b[0mi\u001b[0m\u001b[0;34m]\u001b[0m \u001b[0;34m=\u001b[0m \u001b[0msl\u001b[0m\u001b[0;34m.\u001b[0m\u001b[0mlinear_evolve\u001b[0m\u001b[0;34m(\u001b[0m\u001b[0mnt\u001b[0m\u001b[0;34m=\u001b[0m\u001b[0;36m1\u001b[0m\u001b[0;34m)\u001b[0m\u001b[0;34m\u001b[0m\u001b[0m\n\u001b[0m\u001b[1;32m    181\u001b[0m             \u001b[0;31m#x_nl[i] = sl.cubic_evolve(nt=1)\u001b[0m\u001b[0;34m\u001b[0m\u001b[0;34m\u001b[0m\u001b[0m\n\u001b[1;32m    182\u001b[0m \u001b[0;34m\u001b[0m\u001b[0m\n",
      "\u001b[0;32m/Users/okada/github/fda/semi_lagrangian.pyc\u001b[0m in \u001b[0;36mlinear_evolve\u001b[0;34m(self, nt)\u001b[0m\n\u001b[1;32m     42\u001b[0m                 \u001b[0;31m# linear interpolation\u001b[0m\u001b[0;34m\u001b[0m\u001b[0;34m\u001b[0m\u001b[0m\n\u001b[1;32m     43\u001b[0m                 \u001b[0malpha\u001b[0m \u001b[0;34m=\u001b[0m \u001b[0;34m(\u001b[0m\u001b[0mself\u001b[0m\u001b[0;34m.\u001b[0m\u001b[0mx\u001b[0m\u001b[0;34m[\u001b[0m\u001b[0mi\u001b[0m\u001b[0;34m]\u001b[0m\u001b[0;34m-\u001b[0m\u001b[0mself\u001b[0m\u001b[0;34m.\u001b[0m\u001b[0mu\u001b[0m\u001b[0;34m[\u001b[0m\u001b[0mi\u001b[0m\u001b[0;34m]\u001b[0m\u001b[0;34m*\u001b[0m\u001b[0mself\u001b[0m\u001b[0;34m.\u001b[0m\u001b[0mdt\u001b[0m \u001b[0;34m-\u001b[0m \u001b[0mj\u001b[0m\u001b[0;34m*\u001b[0m\u001b[0mself\u001b[0m\u001b[0;34m.\u001b[0m\u001b[0mdx\u001b[0m\u001b[0;34m)\u001b[0m\u001b[0;34m/\u001b[0m\u001b[0mself\u001b[0m\u001b[0;34m.\u001b[0m\u001b[0mdx\u001b[0m\u001b[0;34m\u001b[0m\u001b[0m\n\u001b[0;32m---> 44\u001b[0;31m                 \u001b[0my_temp\u001b[0m\u001b[0;34m[\u001b[0m\u001b[0mi\u001b[0m\u001b[0;34m]\u001b[0m \u001b[0;34m=\u001b[0m \u001b[0;34m(\u001b[0m\u001b[0;36m1\u001b[0m\u001b[0;34m-\u001b[0m\u001b[0malpha\u001b[0m\u001b[0;34m)\u001b[0m\u001b[0;34m*\u001b[0m\u001b[0mself\u001b[0m\u001b[0;34m.\u001b[0m\u001b[0my\u001b[0m\u001b[0;34m[\u001b[0m\u001b[0mj\u001b[0m\u001b[0;34m]\u001b[0m \u001b[0;34m+\u001b[0m \u001b[0malpha\u001b[0m\u001b[0;34m*\u001b[0m\u001b[0mself\u001b[0m\u001b[0;34m.\u001b[0m\u001b[0my\u001b[0m\u001b[0;34m[\u001b[0m\u001b[0mk\u001b[0m\u001b[0;34m]\u001b[0m\u001b[0;34m\u001b[0m\u001b[0m\n\u001b[0m\u001b[1;32m     45\u001b[0m             \u001b[0;31m# copy array to current time\u001b[0m\u001b[0;34m\u001b[0m\u001b[0;34m\u001b[0m\u001b[0m\n\u001b[1;32m     46\u001b[0m             \u001b[0mself\u001b[0m\u001b[0;34m.\u001b[0m\u001b[0my\u001b[0m \u001b[0;34m=\u001b[0m \u001b[0mnp\u001b[0m\u001b[0;34m.\u001b[0m\u001b[0mcopy\u001b[0m\u001b[0;34m(\u001b[0m\u001b[0my_temp\u001b[0m\u001b[0;34m)\u001b[0m\u001b[0;34m\u001b[0m\u001b[0m\n",
      "\u001b[0;31mIndexError\u001b[0m: index 10 is out of bounds for axis 0 with size 10"
     ]
    }
   ],
   "source": [
    "%reload_ext autoreload\n",
    "%autoreload 2\n",
    "%matplotlib inline\n",
    "import matplotlib.pyplot as plt\n",
    "import numpy as np\n",
    "\n",
    "from fwrtmodel import FWRTmodel\n",
    "\n",
    "nx = 10\n",
    "ini = np.zeros((6,nx))\n",
    "ini[0] = 1. # DIN\n",
    "ini[1] = 0.1  # DIP\n",
    "ini[2] = 0.01  # phy\n",
    "ini[3] = 0.001  # zoo\n",
    "ini[4] = 1. # PON\n",
    "ini[5] = 0.1  # POP\n",
    "\n",
    "num_t = 5000\n",
    "dtdays = 0.01\n",
    "time = np.arange(num_t+1) * dtdays\n",
    "irr = -np.cos(np.arange(num_t+1) * (2.*np.pi * dtdays/1.0)) * 500.\n",
    "irr = np.where(irr>0, irr, 0)\n",
    "\n",
    "temp = np.zeros((num_t+1, nx))\n",
    "temp[:] = np.linspace(30, 20, nx)\n",
    "\n",
    "dx = 0.2\n",
    "dH = np.ones(nx) * dx\n",
    "H = np.arange(dx*0.5, dH.sum(), dx)\n",
    "print H\n",
    "\n",
    "m = FWRTmodel(delta_t=dtdays)\n",
    "\n",
    "print m\n",
    "\n",
    "x_nl, diag = m.run_nl(ini, num_t, irr, temp, dH, H, diag=True)\n",
    "\n",
    "fig, ax = plt.subplots(7,2,figsize=(14,14))\n",
    "ax = ax.flatten()\n",
    "names = 'irr temp DIN DIP phy zoo PON POP'.split()\n",
    "for i in range(8):\n",
    "    pc = ax[i].pcolor(x_nl[::20,i].T, vmin=0)\n",
    "    plt.colorbar(pc, ax=ax[i])\n",
    "    ax[i].set_title(names[i])\n",
    "    \n",
    "TN = x_nl[:,2] + x_nl[:,4]*10. + x_nl[:,5]*10. + x_nl[:,6]\n",
    "pc = ax[8].pcolor(TN.T, vmin=2)\n",
    "plt.colorbar(pc, ax=ax[8])\n",
    "ax[8].set_title('TN')\n",
    "    \n",
    "TP = x_nl[:,3] + x_nl[:,4] + x_nl[:,5] + x_nl[:,7]\n",
    "pc = ax[9].pcolor(TP.T, vmin=0.2)\n",
    "plt.colorbar(pc, ax=ax[9])\n",
    "ax[9].set_title('TP')\n",
    "\n",
    "diag_names = 'phy_tempfunc lightresponse nutrientuptake'.split()\n",
    "for i in range(3):\n",
    "    pc = ax[10+i].pcolor(diag[::20,i].T, vmin=0)\n",
    "    plt.colorbar(pc, ax=ax[10+i])\n",
    "    ax[10+i].set_title(diag_names[i])\n",
    "    \n",
    "#plt.tight_layout()\n",
    "\n",
    "for a in ax:\n",
    "    a.set_ylim(10,0)"
   ]
  },
  {
   "cell_type": "code",
   "execution_count": 124,
   "metadata": {},
   "outputs": [
    {
     "data": {
      "text/plain": [
       "[<matplotlib.lines.Line2D at 0x7fa42b50a9d0>]"
      ]
     },
     "execution_count": 124,
     "metadata": {},
     "output_type": "execute_result"
    },
    {
     "data": {
      "image/png": "[encoded data removed]",
      "text/plain": [
       "<Figure size 432x288 with 1 Axes>"
      ]
     },
     "metadata": {
      "needs_background": "light"
     },
     "output_type": "display_data"
    }
   ],
   "source": [
    "def lightresponse(irr, phy, H, p):\n",
    "    k = 10.*phy + 0.6\n",
    "    irr_norm = irr/p['irr_opt']\n",
    "    return (np.exp(1.0-irr_norm*np.exp(-k*H))\n",
    "            -np.exp(1.0-irr_norm))/(k*H)\n",
    "\n",
    "p = dict(irr_opt=200.)\n",
    "irr0 = 300.\n",
    "phy = ini[2]\n",
    "\n",
    "irr = lightresponse(irr0, phy, H, p)\n",
    "\n",
    "plt.plot(irr)"
   ]
  },
  {
   "cell_type": "code",
   "execution_count": 125,
   "metadata": {},
   "outputs": [
    {
     "data": {
      "text/plain": [
       "[<matplotlib.lines.Line2D at 0x7fa3e9111790>]"
      ]
     },
     "execution_count": 125,
     "metadata": {},
     "output_type": "execute_result"
    },
    {
     "data": {
      "image/png": "[encoded data removed]",
      "text/plain": [
       "<Figure size 432x288 with 1 Axes>"
      ]
     },
     "metadata": {
      "needs_background": "light"
     },
     "output_type": "display_data"
    }
   ],
   "source": [
    "def lightattenuation(irr0, phy, H):\n",
    "    if irr0 > 0.0:\n",
    "        k = 10.*phy + 0.6\n",
    "        irr = [irr0]\n",
    "        dH = np.append(H[0], H[1:]-H[:-1])\n",
    "        for ki, dHi in zip(k, dH):\n",
    "            irr.append(irr[-1]*np.exp(-ki*dHi))\n",
    "        return irr[1:]\n",
    "    else:\n",
    "        return np.zeros_like(phy)\n",
    "    \n",
    "irr = lightattenuation(irr0, phy, H)\n",
    "\n",
    "plt.plot(irr)"
   ]
  },
  {
   "cell_type": "code",
   "execution_count": null,
   "metadata": {},
   "outputs": [],
   "source": []
  }
 ],
 "metadata": {
  "kernelspec": {
   "display_name": "Python 2",
   "language": "python",
   "name": "python2"
  },
  "language_info": {
   "codemirror_mode": {
    "name": "ipython",
    "version": 2
   },
   "file_extension": ".py",
   "mimetype": "text/x-python",
   "name": "python",
   "nbconvert_exporter": "python",
   "pygments_lexer": "ipython2",
   "version": "2.7.15"
  }
 },
 "nbformat": 4,
 "nbformat_minor": 2
}
