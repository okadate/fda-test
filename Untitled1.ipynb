{
 "cells": [
  {
   "cell_type": "code",
   "execution_count": 211,
   "metadata": {},
   "outputs": [
    {
     "name": "stdout",
     "output_type": "stream",
     "text": [
      "y [ 1  2  4  8 16]\n",
      "[  1.           2.82352941   5.64705882  16.          16.        ] [ 0.01174706  0.00710588  0.00023529  0.          0.        ]\n",
      "[  2.01818888   5.7047998   15.84         0.           0.        ] [ 0.02339989  0.00023987  0.          0.          0.        ]\n",
      "[  4.0648011  15.6816      0.          0.          0.       ] [ 0.00836794  0.          0.          0.          0.        ]\n",
      "[ 15.524784   0.         0.         0.         0.      ] [ 0.  0.  0.  0.  0.]\n",
      "[ 0.  0.  0.  0.  0.] [ 0.  0.  0.  0.  0.]\n",
      "[ 0.  0.  0.  0.  0.] [ 0.  0.  0.  0.  0.]\n",
      "[ 0.  0.  0.  0.  0.] [ 0.  0.  0.  0.  0.]\n",
      "[ 0.  0.  0.  0.  0.] [ 0.  0.  0.  0.  0.]\n",
      "[ 0.  0.  0.  0.  0.] [ 0.  0.  0.  0.  0.]\n",
      "[ 0.  0.  0.  0.  0.] [ 0.  0.  0.  0.  0.]\n"
     ]
    },
    {
     "data": {
      "text/plain": [
       "<matplotlib.colorbar.Colorbar at 0x7f92c2e39bd0>"
      ]
     },
     "execution_count": 211,
     "metadata": {},
     "output_type": "execute_result"
    },
    {
     "data": {
      "image/png": "[encoded data removed]",
      "text/plain": [
       "<Figure size 432x288 with 2 Axes>"
      ]
     },
     "metadata": {
      "needs_background": "light"
     },
     "output_type": "display_data"
    }
   ],
   "source": [
    "import numpy as np\n",
    "\n",
    "\n",
    "def settling(dx, y, w, z_w, dt):\n",
    "    nx = len(dx)\n",
    "    \n",
    "    f = np.zeros(nx+1)\n",
    "\n",
    "    dx2 = dx[:-1] + dx[1:]\n",
    "    dx3 = dx[:-2] + dx[1:-1] + dx[2:]\n",
    "\n",
    "    f[1:-1] = (y[1:] - y[:-1]) / dx2\n",
    "\n",
    "    dR = dx[1:-1] * f[2:-1]\n",
    "    dL = dx[1:-1] * f[1:-2]\n",
    "\n",
    "    # Apply PPM monotonicity constant\n",
    "\n",
    "    cffR = (dx[1:-1] + dx3) * f[2:-1]\n",
    "    cffL = (dx[1:-1] + dx3) * f[1:-2]\n",
    "    \n",
    "    for k in range(len(dR)):\n",
    "        if dR[k]*dL[k] <= 0.0:\n",
    "            dR[k] = 0.0\n",
    "            dL[k] = 0.0\n",
    "        elif abs(dR[k]) > abs(cffL[k]):\n",
    "            dR[k] = cffL[k]\n",
    "        elif abs(dL[k]) > abs(cffR[k]):\n",
    "            dL[k] = cffR[k]\n",
    "    #print dL, dR\n",
    "\n",
    "    # compute\n",
    "\n",
    "    cff = (dR - dL) / dx3\n",
    "    dR -= cff * dx[2:]\n",
    "    dL += cff * dx[:-2]\n",
    "\n",
    "    bR = np.zeros_like(y)\n",
    "    bL = np.zeros_like(y)\n",
    "    bR[1:-1] = y[1:-1] + dR\n",
    "    bL[1:-1] = y[1:-1] - dL\n",
    "\n",
    "    WR = (2.*dR - dL)**2\n",
    "    WL = (dR - 2.*dL)**2\n",
    "\n",
    "    cff = 1e-14\n",
    "    dL = np.where(WL[:-1]>cff, WL[:-1], cff)\n",
    "    dR = np.where(WR[1:]>cff, WR[1:], cff)\n",
    "    bR[1:-2] = (dR * bR[1:-2] + dL * bL[2:-1]) / (dR + dL)\n",
    "    bL[2:-1] = bR[1:-2]\n",
    "\n",
    "    f[-1] = 0.0    # NO-flux boundary condition\n",
    "\n",
    "    boundary = ''\n",
    "    \n",
    "    if boundary == 'neumann':\n",
    "        bL[-1] = bR[-2]\n",
    "        bR[-1] = 1.5*y[-1] - 0.5*bL[-1]\n",
    "        bR[0]  = bL[1]\n",
    "        bL[0]  = 1.5*y[0] - 0.5*bR[0]\n",
    "        \n",
    "    else:\n",
    "        bR[-1] = y[-1] # default strictly monotonic conditions\n",
    "        bL[-1] = y[-1]\n",
    "        bR[-2] = y[-1]\n",
    "        bL[1] = y[0]   # bottom grid boxes are reassumed to be piecewise constant\n",
    "        bR[0] = y[0]\n",
    "        bL[0] = y[0]\n",
    "\n",
    "    # Apply monotonicity constraint again\n",
    "\n",
    "    dR = bR - y\n",
    "    dL = y - bL\n",
    "    cffR = 2. * dR\n",
    "    cffL = 2. * dL\n",
    "    \n",
    "    for k in range(len(dR)):\n",
    "        if dR[k]*dL[k] < 0.0:\n",
    "            dR[k] = 0.0\n",
    "            dL[k] = 0.0\n",
    "        elif abs(dR[k]) > abs(cffL[k]):\n",
    "            dR[k] = cffL[k]\n",
    "        elif abs(dL[k]) > abs(cffR[k]):\n",
    "            dL[k] = cffR[k]\n",
    "\n",
    "    bR = y + dR\n",
    "    bL = y - dL\n",
    "\n",
    "    # compute vertical advective fluxes\n",
    "\n",
    "    cff = dt * abs(w)\n",
    "    f[:-1] = 0.0\n",
    "    WL = z_w[:-1] + cff\n",
    "    WR = dx * y\n",
    "    ksource = np.arange(nx)\n",
    "\n",
    "    for k in range(nx):\n",
    "        for ks in range(k,nx-1):\n",
    "            if WL[k] > z_w[ks]:\n",
    "                ksource[k] = ks+1\n",
    "                f[k] += WR[ks]\n",
    "\n",
    "    ks = ksource\n",
    "    cu = (WL - z_w[ks-1]) / dx[ks]\n",
    "    cu = np.where(cu<1.0, cu, 1.0)\n",
    "    cff1 = bR[ks] - bL[ks]\n",
    "    cff2 = bR[ks] + bL[ks] - 2*y[ks]\n",
    "    #print cff1, cff2\n",
    "    print bL[ks], cu * (0.5*cff1 - (1.5-cu)*cff2)\n",
    "    f[:-1] += dx[ks] * cu * (bL[ks] + cu * (0.5*cff1 - (1.5-cu)*cff2))    \n",
    "\n",
    "    return y + (f[1:] - f[:-1]) / dx\n",
    "\n",
    "\n",
    "nx = 5\n",
    "dx = np.ones(nx) * 0.1\n",
    "z_w = np.array([dx[0:i].sum() for i in range(nx+1)])\n",
    "\n",
    "y = 2**np.arange(nx)\n",
    "print 'y', y\n",
    "\n",
    "w = 0.1\n",
    "\n",
    "dt = 0.01\n",
    "nt = 10\n",
    "time = np.arange(0, nt*dt+dt, dt)\n",
    "\n",
    "ys = np.zeros((nt+1, nx))\n",
    "ys[0] = y\n",
    "\n",
    "for t in range(nt):\n",
    "    ys[t+1] = settling(dx, ys[t], w, z_w, dt)\n",
    "    \n",
    "    \n",
    "%matplotlib inline\n",
    "import matplotlib.pyplot as plt\n",
    "plt.contourf(time, z_w[:-1], ys.T)\n",
    "plt.colorbar()"
   ]
  },
  {
   "cell_type": "code",
   "execution_count": 254,
   "metadata": {},
   "outputs": [
    {
     "data": {
      "text/plain": [
       "[<matplotlib.lines.Line2D at 0x7f92f3787a10>]"
      ]
     },
     "execution_count": 254,
     "metadata": {},
     "output_type": "execute_result"
    },
    {
     "data": {
      "image/png": "[encoded data removed]",
      "text/plain": [
       "<Figure size 432x288 with 2 Axes>"
      ]
     },
     "metadata": {
      "needs_background": "light"
     },
     "output_type": "display_data"
    },
    {
     "data": {
      "image/png": "[encoded data removed]",
      "text/plain": [
       "<Figure size 432x288 with 1 Axes>"
      ]
     },
     "metadata": {
      "needs_background": "light"
     },
     "output_type": "display_data"
    }
   ],
   "source": [
    "def monotonic(deltaR, deltaL, cffR, cffL, e=True):\n",
    "    \n",
    "    if e:\n",
    "        cond = deltaR*deltaL <= 0.0\n",
    "    else:\n",
    "        cond = deltaR*deltaL < 0.0\n",
    "        \n",
    "    if cond.all():\n",
    "        deltaR, deltaL = 0.0, 0.0\n",
    "    else:\n",
    "        deltaR = np.where(np.abs(deltaR) > np.abs(cffL), cffL, deltaR)\n",
    "        deltaL = np.where(np.abs(deltaL) > np.abs(cffR), cffR, deltaL)\n",
    "\n",
    "def settling(x, dx, y, w, dt):\n",
    "    \n",
    "    nx = len(x)\n",
    "    \n",
    "    F = np.zeros(nx+1)\n",
    "    qR = np.zeros(nx)\n",
    "    qL = np.zeros(nx)\n",
    "    \n",
    "    qc = y / dx  # (mmol/m3/m)\n",
    "    \n",
    "    F[1:-1] = (qc[1:] - qc[:-1]) / (dx[1:] + dx[:-1])  # (mmol/m3)\n",
    "    \n",
    "    deltaR = dx[1:-1] * F[2:-1]  # nx-2\n",
    "    deltaL = dx[1:-1] * F[1:-2]\n",
    "    \n",
    "    # monotonicity constant\n",
    "    \n",
    "    cff = dx[2:] + 2*dx[1:-1] + dx[:-2]  # nx-2\n",
    "    cffR = cff * F[2:-1]\n",
    "    cffL = cff * F[1:-2]\n",
    "    monotonic(deltaR, deltaL, cffR, cffL, e=True)\n",
    "    \n",
    "    cff = (deltaR - deltaL) / (dx[2:] + dx[1:-1] + dx[:-2])  # nx-2\n",
    "    deltaR -= cff * dx[2:]\n",
    "    deltaL += cff * dx[:-2]\n",
    "    \n",
    "    qR[1:-1] = qc[1:-1] + deltaR  # nx-2\n",
    "    qL[1:-1] = qc[1:-1] - deltaL\n",
    "    \n",
    "    WR = (2*deltaR - deltaL)**2  # nx-2\n",
    "    WL = (deltaR - 2*deltaL)**2\n",
    "    \n",
    "    cff = 1e-14\n",
    "    deltaL = np.where(WL[:-1]>cff, WL[:-1], cff)  # nx-3\n",
    "    deltaR = np.where(WR[1:]>cff,  WR[1:],  cff)\n",
    "    qR[1:-2] = (deltaR * qR[1:-2] + deltaL * qL[2:-1]) / (deltaR + deltaL)\n",
    "    qL[2:-1] = qR[1:-2]\n",
    "    \n",
    "    F[-1] = 0.0  # boundary condition\n",
    "    \n",
    "    boundary = 0\n",
    "    \n",
    "    if boundary == 0:\n",
    "        qR[-1] = qc[-1]\n",
    "        qL[-1] = qc[-1]\n",
    "        qR[-2] = qc[-1]\n",
    "        qL[1] = qc[0]\n",
    "        qR[0] = qc[0]\n",
    "        qL[0] = qc[0]\n",
    "        \n",
    "    elif boundary == 1:\n",
    "        qL[-1] = qR[-2].copy()\n",
    "        qR[-1] = 1.5*qc[-1] - 0.5*qL[-1]\n",
    "        qR[0] = qL[1].copy()\n",
    "        qL[0] = 1.5*qc[0] - 0.5*qR[0]\n",
    "    \n",
    "    # monotonicity constant again\n",
    "    \n",
    "    deltaR = qR - qc  # nx\n",
    "    deltaL = qc - qL\n",
    "    cffR = 2*deltaR\n",
    "    cffL = 2*deltaL\n",
    "    monotonic(deltaR, deltaL, cffR, cffL, e=False)\n",
    "    \n",
    "    qR = qc + deltaR\n",
    "    qL = qc - deltaL\n",
    "    \n",
    "    # cumpute advective fluxes\n",
    "    \n",
    "    xf = np.array([dx[:i].sum() for i in range(nx+1)])  # nx+1\n",
    "\n",
    "    cff = dt * abs(w)   # (m)\n",
    "    F[:-1] = 0.0        # (mmol/m3)\n",
    "    WL = xf[:-1] + cff  # nx (m)\n",
    "    WR = dx * qc        # (mmol/m3)\n",
    "    ksource = np.arange(nx)\n",
    "    \n",
    "    for k in range(nx):\n",
    "        for ks in range(k,nx-1):\n",
    "            if WL[k] > xf[ks]:\n",
    "                ksource[k] = ks + 1\n",
    "                F[k] += WR[ks]\n",
    "    \n",
    "    ks = ksource[:]\n",
    "    #print ks\n",
    "    cu = (WL - xf[ks-1]) / dx[ks]     # (none)\n",
    "    cu = np.where(cu<1.0, cu, 1.0)\n",
    "    cff1 = qR[ks] - qL[ks]            # (mmol/m3/m)\n",
    "    cff2 = qR[ks] + qL[ks] - 2*qc[ks]\n",
    "    F[:-1] += dx[ks]*cu*(qL[ks] + cu*(0.5*cff1 + (1.5-cu)*cff2))\n",
    "    \n",
    "    F[0] = 0  # boundary condition\n",
    "    \n",
    "    out = qc*dx + (F[1:] - F[:-1]) # (mmol/m3)\n",
    "        \n",
    "    #print F\n",
    "    #print qc\n",
    "    #print qR\n",
    "    #print qL\n",
    "    return out\n",
    "\n",
    "\n",
    "nx = 10\n",
    "dx = 0.1\n",
    "\n",
    "xw = -np.arange(nx+1)[::-1] * dx\n",
    "xr = (xw[1:] + xw[:-1]) / 2.\n",
    "dx = xw[1:] - xw[:-1]\n",
    "w = 0.01\n",
    "\n",
    "nt = 150\n",
    "dt = 0.01\n",
    "time = np.arange(0, nt*dt+dt, dt)\n",
    "\n",
    "y = np.zeros((nt+1, nx))\n",
    "y[0,-2] = 1.\n",
    "#y[0] = np.linspace(0.9, 1.1, nx)\n",
    "\n",
    "for t in range(nt):\n",
    "    y[t+1] = settling(xr, dx, y[t], w, dt)\n",
    "    \n",
    "plt.pcolor(time, xw, y.T, vmin=0, cmap='jet')\n",
    "plt.colorbar()\n",
    "\n",
    "plt.figure()\n",
    "plt.plot(y.sum(axis=1))"
   ]
  },
  {
   "cell_type": "code",
   "execution_count": null,
   "metadata": {},
   "outputs": [],
   "source": [
    "import numpy as np\n",
    "\n",
    "\n",
    "def settling(dx, y, w, z_w, dt):\n",
    "    nx = len(dx)\n",
    "\n",
    "    dx2 = dx[:-1] + dx[1:]\n",
    "    dx3 = dx[:-2] + dx[1:-1] + dx[2:]\n",
    "\n",
    "    f[1:-1] = (y[1:] - y[:-1]) / dx2\n",
    "\n",
    "    dR = dx[1:-1] * f[2:-1]\n",
    "    dL = dx[1:-1] * f[1:-2]\n",
    "\n",
    "    # compute\n",
    "\n",
    "    cff = (dR - dL) / dx3\n",
    "    dR -= cff * dx[2:]\n",
    "    dL += cff * dx[:-2]\n",
    "\n",
    "    bR = np.zeros_like(y)\n",
    "    bL = np.zeros_like(y)\n",
    "    bR[1:-1] = y[1:-1] + dR\n",
    "    bL[1:-1] = y[1:-1] - dL\n",
    "\n",
    "    WR = (2.*dR - dL)**2\n",
    "    WL = (dR - 2.*dL)**2\n",
    "\n",
    "    cff = 1e-14\n",
    "    dL = np.where(WL[:-1]>cff, WL[:-1], cff)\n",
    "    dR = np.where(WR[1:]>cff, WR[1:], cff)\n",
    "    bR[1:-2] = (dR * bR[1:-2] + dL * bL[2:-1]) / (dR + dL)\n",
    "    bL[2:-1] = bR[1:-2]\n",
    "\n",
    "    f[-1] = 0.0    # NO-flux boundary condition\n",
    "\n",
    "    boundary = ''\n",
    "    \n",
    "    if boundary == 'neumann':\n",
    "        bL[-1] = bR[-2]\n",
    "        bR[-1] = 1.5*y[-1] - 0.5*bL[-1]\n",
    "        bR[0]  = bL[1]\n",
    "        bL[0]  = 1.5*y[0] - 0.5*bR[0]\n",
    "        \n",
    "    else:\n",
    "        bR[-1] = y[-1] # default strictly monotonic conditions\n",
    "        bL[-1] = y[-1]\n",
    "        bR[-2] = y[-1]\n",
    "        bL[1] = y[0]   # bottom grid boxes are reassumed to be piecewise constant\n",
    "        bR[0] = y[0]\n",
    "        bL[0] = y[0]\n",
    "\n",
    "    # compute vertical advective fluxes\n",
    "\n",
    "    cff = dt * abs(w)\n",
    "    f[:-1] = 0.0\n",
    "    WL = z_w[:-1] + cff\n",
    "    WR = dx * y\n",
    "    ksource = np.arange(nx)\n",
    "\n",
    "    for k in range(nx):\n",
    "        for ks in range(k,nx-1):\n",
    "            if WL[k] > z_w[ks]:\n",
    "                ksource[k] = ks+1\n",
    "                f[k] += WR[ks]\n",
    "\n",
    "    ks = ksource\n",
    "    cu = (WL - z_w[ks-1]) / dx[ks]\n",
    "    cu = np.where(cu<1.0, cu, 1.0)\n",
    "    cff1 = bR[ks] - bL[ks]\n",
    "    cff2 = bR[ks] + bL[ks] - 2*y[ks]\n",
    "\n",
    "    f[:-1] += dx[ks] * cu * (bL[ks] + cu * (0.5*cff1 - (1.5-cu)*cff2))    \n",
    "\n",
    "    return y + (f[1:] - f[:-1]) / dx\n",
    "\n",
    "\n",
    "nx = 5\n",
    "dx = np.ones(nx) * 0.1\n",
    "z_w = np.array([dx[0:i].sum() for i in range(nx+1)])\n",
    "\n",
    "y = 2**np.arange(nx)\n",
    "print 'y', y\n",
    "\n",
    "w = 0.1\n",
    "\n",
    "dt = 0.01\n",
    "nt = 10\n",
    "time = np.arange(0, nt*dt+dt, dt)\n",
    "\n",
    "ys = np.zeros((nt+1, nx))\n",
    "ys[0] = y\n",
    "\n",
    "for t in range(nt):\n",
    "    ys[t+1] = settling(dx, ys[t], w, z_w, dt)\n",
    "    \n",
    "    \n",
    "%matplotlib inline\n",
    "import matplotlib.pyplot as plt\n",
    "plt.contourf(time, z_w[:-1], ys.T)\n",
    "plt.colorbar()"
   ]
  },
  {
   "cell_type": "code",
   "execution_count": 100,
   "metadata": {},
   "outputs": [
    {
     "data": {
      "text/plain": [
       "(array([ 1.,  1.,  1.,  1.,  2.,  3.,  2.,  1.,  1.,  1.,  1.]),\n",
       " array([ 1.001   ,  1.001   ,  1.001   ,  1.001001,  2.003   ,  3.002999,\n",
       "         2.001   ,  1.001   ,  1.001   ,  1.001   ,  1.001   ,  0.      ]),\n",
       " array([ 1,  2,  3,  4,  5,  6,  7,  8,  9, 10, 10]))"
      ]
     },
     "execution_count": 100,
     "metadata": {},
     "output_type": "execute_result"
    }
   ],
   "source": [
    "y, f, ksource"
   ]
  },
  {
   "cell_type": "code",
   "execution_count": 94,
   "metadata": {},
   "outputs": [
    {
     "data": {
      "text/plain": [
       "(array([ 0.,  0.,  0.,  0.,  1.,  0., -1.,  0.,  0.,  0.,  0.]),\n",
       " array([ 0.,  0.,  0.,  0.,  1.,  0., -1.,  0.,  0.,  0.,  0.]))"
      ]
     },
     "execution_count": 94,
     "metadata": {},
     "output_type": "execute_result"
    }
   ],
   "source": [
    "dR, dL"
   ]
  },
  {
   "cell_type": "code",
   "execution_count": 95,
   "metadata": {},
   "outputs": [
    {
     "data": {
      "text/plain": [
       "(array([ 1.,  1.,  1.,  1.,  3.,  3.,  1.,  1.,  1.,  1.,  1.]),\n",
       " array([ 1.,  1.,  1.,  1.,  1.,  3.,  3.,  1.,  1.,  1.,  1.]))"
      ]
     },
     "execution_count": 95,
     "metadata": {},
     "output_type": "execute_result"
    }
   ],
   "source": [
    "bR, bL"
   ]
  },
  {
   "cell_type": "code",
   "execution_count": 96,
   "metadata": {},
   "outputs": [
    {
     "data": {
      "text/plain": [
       "(array([ 1.,  1.,  1.,  1.,  2.,  3.,  2.,  1.,  1.,  1.,  1.]),\n",
       " array([  1.00000000e-03,   1.00100000e+00,   2.00100000e+00,\n",
       "          3.00100000e+00,   4.00100000e+00,   5.00100000e+00,\n",
       "          6.00100000e+00,   7.00100000e+00,   8.00100000e+00,\n",
       "          9.00100000e+00,   1.00010000e+01]))"
      ]
     },
     "execution_count": 96,
     "metadata": {},
     "output_type": "execute_result"
    }
   ],
   "source": [
    "WR, WL"
   ]
  },
  {
   "cell_type": "code",
   "execution_count": 9,
   "metadata": {},
   "outputs": [
    {
     "data": {
      "text/plain": [
       "array([ 2.,  2.,  2.,  2.,  2.,  2.,  2.,  2.])"
      ]
     },
     "execution_count": 9,
     "metadata": {},
     "output_type": "execute_result"
    }
   ],
   "source": [
    "cffR"
   ]
  },
  {
   "cell_type": "code",
   "execution_count": 10,
   "metadata": {},
   "outputs": [
    {
     "data": {
      "text/plain": [
       "array([ 2.,  2.,  2.,  2.,  2.,  2.,  2.,  2.])"
      ]
     },
     "execution_count": 10,
     "metadata": {},
     "output_type": "execute_result"
    }
   ],
   "source": [
    "cffL"
   ]
  },
  {
   "cell_type": "code",
   "execution_count": null,
   "metadata": {},
   "outputs": [],
   "source": []
  }
 ],
 "metadata": {
  "kernelspec": {
   "display_name": "Python 2",
   "language": "python",
   "name": "python2"
  },
  "language_info": {
   "codemirror_mode": {
    "name": "ipython",
    "version": 2
   },
   "file_extension": ".py",
   "mimetype": "text/x-python",
   "name": "python",
   "nbconvert_exporter": "python",
   "pygments_lexer": "ipython2",
   "version": "2.7.15"
  }
 },
 "nbformat": 4,
 "nbformat_minor": 2
}
